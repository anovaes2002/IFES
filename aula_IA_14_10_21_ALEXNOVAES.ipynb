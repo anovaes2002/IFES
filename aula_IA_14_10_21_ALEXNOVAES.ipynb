{
  "nbformat": 4,
  "nbformat_minor": 0,
  "metadata": {
    "colab": {
      "name": "aula_IA_14_10_21_ALEXNOVAES.ipynb",
      "provenance": [],
      "collapsed_sections": [],
      "authorship_tag": "ABX9TyOkO/VTBMnOCwTnBKoSkTvK",
      "include_colab_link": true
    },
    "kernelspec": {
      "name": "python3",
      "display_name": "Python 3"
    },
    "language_info": {
      "name": "python"
    }
  },
  "cells": [
    {
      "cell_type": "markdown",
      "metadata": {
        "id": "view-in-github",
        "colab_type": "text"
      },
      "source": [
        "<a href=\"https://colab.research.google.com/github/anovaes2002/IFES/blob/main/aula_IA_14_10_21_ALEXNOVAES.ipynb\" target=\"_parent\"><img src=\"https://colab.research.google.com/assets/colab-badge.svg\" alt=\"Open In Colab\"/></a>"
      ]
    },
    {
      "cell_type": "code",
      "metadata": {
        "colab": {
          "resources": {
            "http://localhost:8080/nbextensions/google.colab/files.js": {
              "data": "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",
              "ok": true,
              "headers": [
                [
                  "content-type",
                  "application/javascript"
                ]
              ],
              "status": 200,
              "status_text": ""
            }
          },
          "base_uri": "https://localhost:8080/",
          "height": 72
        },
        "id": "1w7FDC4gN98h",
        "outputId": "82e6c9e6-85a7-4063-d942-bf7532b23d6e"
      },
      "source": [
        "from google.colab import files\n",
        "uploaded = files.upload()\n"
      ],
      "execution_count": 1,
      "outputs": [
        {
          "output_type": "display_data",
          "data": {
            "text/html": [
              "\n",
              "     <input type=\"file\" id=\"files-894667e2-cf5e-40b2-8233-d5139d6a12e7\" name=\"files[]\" multiple disabled\n",
              "        style=\"border:none\" />\n",
              "     <output id=\"result-894667e2-cf5e-40b2-8233-d5139d6a12e7\">\n",
              "      Upload widget is only available when the cell has been executed in the\n",
              "      current browser session. Please rerun this cell to enable.\n",
              "      </output>\n",
              "      <script src=\"/nbextensions/google.colab/files.js\"></script> "
            ],
            "text/plain": [
              "<IPython.core.display.HTML object>"
            ]
          },
          "metadata": {}
        },
        {
          "output_type": "stream",
          "name": "stdout",
          "text": [
            "Saving iris.data to iris.data\n"
          ]
        }
      ]
    },
    {
      "cell_type": "code",
      "metadata": {
        "id": "DC5f_DKTOrNH"
      },
      "source": [
        "import numpy as np\n",
        "import pandas as pd\n",
        "import seaborn as nsn\n",
        "import matplotlib.pyplot as plt\n",
        "import google"
      ],
      "execution_count": 2,
      "outputs": []
    },
    {
      "cell_type": "code",
      "metadata": {
        "id": "uuOdhpG_O8gl"
      },
      "source": [
        "base=pd.read_csv('iris.data')  "
      ],
      "execution_count": 5,
      "outputs": []
    },
    {
      "cell_type": "code",
      "metadata": {
        "colab": {
          "base_uri": "https://localhost:8080/"
        },
        "id": "R_MklJA6PaVf",
        "outputId": "cd166765-ed4e-42c6-f512-20b3a68db3d8"
      },
      "source": [
        "base.head"
      ],
      "execution_count": 7,
      "outputs": [
        {
          "output_type": "execute_result",
          "data": {
            "text/plain": [
              "<bound method NDFrame.head of      5.1  3.5  1.4  0.2     Iris-setosa\n",
              "0    4.9  3.0  1.4  0.2     Iris-setosa\n",
              "1    4.7  3.2  1.3  0.2     Iris-setosa\n",
              "2    4.6  3.1  1.5  0.2     Iris-setosa\n",
              "3    5.0  3.6  1.4  0.2     Iris-setosa\n",
              "4    5.4  3.9  1.7  0.4     Iris-setosa\n",
              "..   ...  ...  ...  ...             ...\n",
              "144  6.7  3.0  5.2  2.3  Iris-virginica\n",
              "145  6.3  2.5  5.0  1.9  Iris-virginica\n",
              "146  6.5  3.0  5.2  2.0  Iris-virginica\n",
              "147  6.2  3.4  5.4  2.3  Iris-virginica\n",
              "148  5.9  3.0  5.1  1.8  Iris-virginica\n",
              "\n",
              "[149 rows x 5 columns]>"
            ]
          },
          "metadata": {},
          "execution_count": 7
        }
      ]
    },
    {
      "cell_type": "code",
      "metadata": {
        "id": "TfLPsWoJP4sv"
      },
      "source": [
        "entradas = base.iloc[:,0:4].values\n",
        "saidas = base.iloc[:,4].values"
      ],
      "execution_count": 8,
      "outputs": []
    },
    {
      "cell_type": "code",
      "metadata": {
        "colab": {
          "base_uri": "https://localhost:8080/"
        },
        "id": "maj32CfRQW_R",
        "outputId": "df0fa952-bb1f-4bfd-d797-a923f1458119"
      },
      "source": [
        "base.info()"
      ],
      "execution_count": 9,
      "outputs": [
        {
          "output_type": "stream",
          "name": "stdout",
          "text": [
            "<class 'pandas.core.frame.DataFrame'>\n",
            "RangeIndex: 149 entries, 0 to 148\n",
            "Data columns (total 5 columns):\n",
            " #   Column       Non-Null Count  Dtype  \n",
            "---  ------       --------------  -----  \n",
            " 0   5.1          149 non-null    float64\n",
            " 1   3.5          149 non-null    float64\n",
            " 2   1.4          149 non-null    float64\n",
            " 3   0.2          149 non-null    float64\n",
            " 4   Iris-setosa  149 non-null    object \n",
            "dtypes: float64(4), object(1)\n",
            "memory usage: 5.9+ KB\n"
          ]
        }
      ]
    },
    {
      "cell_type": "code",
      "metadata": {
        "colab": {
          "base_uri": "https://localhost:8080/"
        },
        "id": "Hd6kuzoQQY-O",
        "outputId": "e494d3f0-b4a3-4be2-a943-43f73a350624"
      },
      "source": [
        "from sklearn.preprocessing import LabelEncoder\n",
        "\n",
        "labelencoder = LabelEncoder()\n",
        "saidas = labelencoder.fit_transform(saidas)\n",
        "print(saidas)"
      ],
      "execution_count": 13,
      "outputs": [
        {
          "output_type": "stream",
          "name": "stdout",
          "text": [
            "[0 0 0 0 0 0 0 0 0 0 0 0 0 0 0 0 0 0 0 0 0 0 0 0 0 0 0 0 0 0 0 0 0 0 0 0 0\n",
            " 0 0 0 0 0 0 0 0 0 0 0 0 1 1 1 1 1 1 1 1 1 1 1 1 1 1 1 1 1 1 1 1 1 1 1 1 1\n",
            " 1 1 1 1 1 1 1 1 1 1 1 1 1 1 1 1 1 1 1 1 1 1 1 1 1 2 2 2 2 2 2 2 2 2 2 2 2\n",
            " 2 2 2 2 2 2 2 2 2 2 2 2 2 2 2 2 2 2 2 2 2 2 2 2 2 2 2 2 2 2 2 2 2 2 2 2 2\n",
            " 2]\n"
          ]
        }
      ]
    },
    {
      "cell_type": "code",
      "metadata": {
        "colab": {
          "base_uri": "https://localhost:8080/"
        },
        "id": "FTvfsAmWQ2x-",
        "outputId": "c78d408e-db52-4464-ca75-0e20cdc5679e"
      },
      "source": [
        "from keras.utils import np_utils\n",
        "saidas_dummy = np_utils.to_categorical(saidas)\n",
        "print(saidas_dummy)"
      ],
      "execution_count": 15,
      "outputs": [
        {
          "output_type": "stream",
          "name": "stdout",
          "text": [
            "[[1. 0. 0.]\n",
            " [1. 0. 0.]\n",
            " [1. 0. 0.]\n",
            " [1. 0. 0.]\n",
            " [1. 0. 0.]\n",
            " [1. 0. 0.]\n",
            " [1. 0. 0.]\n",
            " [1. 0. 0.]\n",
            " [1. 0. 0.]\n",
            " [1. 0. 0.]\n",
            " [1. 0. 0.]\n",
            " [1. 0. 0.]\n",
            " [1. 0. 0.]\n",
            " [1. 0. 0.]\n",
            " [1. 0. 0.]\n",
            " [1. 0. 0.]\n",
            " [1. 0. 0.]\n",
            " [1. 0. 0.]\n",
            " [1. 0. 0.]\n",
            " [1. 0. 0.]\n",
            " [1. 0. 0.]\n",
            " [1. 0. 0.]\n",
            " [1. 0. 0.]\n",
            " [1. 0. 0.]\n",
            " [1. 0. 0.]\n",
            " [1. 0. 0.]\n",
            " [1. 0. 0.]\n",
            " [1. 0. 0.]\n",
            " [1. 0. 0.]\n",
            " [1. 0. 0.]\n",
            " [1. 0. 0.]\n",
            " [1. 0. 0.]\n",
            " [1. 0. 0.]\n",
            " [1. 0. 0.]\n",
            " [1. 0. 0.]\n",
            " [1. 0. 0.]\n",
            " [1. 0. 0.]\n",
            " [1. 0. 0.]\n",
            " [1. 0. 0.]\n",
            " [1. 0. 0.]\n",
            " [1. 0. 0.]\n",
            " [1. 0. 0.]\n",
            " [1. 0. 0.]\n",
            " [1. 0. 0.]\n",
            " [1. 0. 0.]\n",
            " [1. 0. 0.]\n",
            " [1. 0. 0.]\n",
            " [1. 0. 0.]\n",
            " [1. 0. 0.]\n",
            " [0. 1. 0.]\n",
            " [0. 1. 0.]\n",
            " [0. 1. 0.]\n",
            " [0. 1. 0.]\n",
            " [0. 1. 0.]\n",
            " [0. 1. 0.]\n",
            " [0. 1. 0.]\n",
            " [0. 1. 0.]\n",
            " [0. 1. 0.]\n",
            " [0. 1. 0.]\n",
            " [0. 1. 0.]\n",
            " [0. 1. 0.]\n",
            " [0. 1. 0.]\n",
            " [0. 1. 0.]\n",
            " [0. 1. 0.]\n",
            " [0. 1. 0.]\n",
            " [0. 1. 0.]\n",
            " [0. 1. 0.]\n",
            " [0. 1. 0.]\n",
            " [0. 1. 0.]\n",
            " [0. 1. 0.]\n",
            " [0. 1. 0.]\n",
            " [0. 1. 0.]\n",
            " [0. 1. 0.]\n",
            " [0. 1. 0.]\n",
            " [0. 1. 0.]\n",
            " [0. 1. 0.]\n",
            " [0. 1. 0.]\n",
            " [0. 1. 0.]\n",
            " [0. 1. 0.]\n",
            " [0. 1. 0.]\n",
            " [0. 1. 0.]\n",
            " [0. 1. 0.]\n",
            " [0. 1. 0.]\n",
            " [0. 1. 0.]\n",
            " [0. 1. 0.]\n",
            " [0. 1. 0.]\n",
            " [0. 1. 0.]\n",
            " [0. 1. 0.]\n",
            " [0. 1. 0.]\n",
            " [0. 1. 0.]\n",
            " [0. 1. 0.]\n",
            " [0. 1. 0.]\n",
            " [0. 1. 0.]\n",
            " [0. 1. 0.]\n",
            " [0. 1. 0.]\n",
            " [0. 1. 0.]\n",
            " [0. 1. 0.]\n",
            " [0. 1. 0.]\n",
            " [0. 1. 0.]\n",
            " [0. 0. 1.]\n",
            " [0. 0. 1.]\n",
            " [0. 0. 1.]\n",
            " [0. 0. 1.]\n",
            " [0. 0. 1.]\n",
            " [0. 0. 1.]\n",
            " [0. 0. 1.]\n",
            " [0. 0. 1.]\n",
            " [0. 0. 1.]\n",
            " [0. 0. 1.]\n",
            " [0. 0. 1.]\n",
            " [0. 0. 1.]\n",
            " [0. 0. 1.]\n",
            " [0. 0. 1.]\n",
            " [0. 0. 1.]\n",
            " [0. 0. 1.]\n",
            " [0. 0. 1.]\n",
            " [0. 0. 1.]\n",
            " [0. 0. 1.]\n",
            " [0. 0. 1.]\n",
            " [0. 0. 1.]\n",
            " [0. 0. 1.]\n",
            " [0. 0. 1.]\n",
            " [0. 0. 1.]\n",
            " [0. 0. 1.]\n",
            " [0. 0. 1.]\n",
            " [0. 0. 1.]\n",
            " [0. 0. 1.]\n",
            " [0. 0. 1.]\n",
            " [0. 0. 1.]\n",
            " [0. 0. 1.]\n",
            " [0. 0. 1.]\n",
            " [0. 0. 1.]\n",
            " [0. 0. 1.]\n",
            " [0. 0. 1.]\n",
            " [0. 0. 1.]\n",
            " [0. 0. 1.]\n",
            " [0. 0. 1.]\n",
            " [0. 0. 1.]\n",
            " [0. 0. 1.]\n",
            " [0. 0. 1.]\n",
            " [0. 0. 1.]\n",
            " [0. 0. 1.]\n",
            " [0. 0. 1.]\n",
            " [0. 0. 1.]\n",
            " [0. 0. 1.]\n",
            " [0. 0. 1.]\n",
            " [0. 0. 1.]\n",
            " [0. 0. 1.]\n",
            " [0. 0. 1.]]\n"
          ]
        }
      ]
    },
    {
      "cell_type": "code",
      "metadata": {
        "id": "AGC8Wj2HRo9g"
      },
      "source": [
        "from sklearn.model_selection import train_test_split\n",
        "\n",
        "etreino, eteste, streino, steste = train_test_split(entradas, saidas_dummy, test_size = 0.25)\n"
      ],
      "execution_count": 18,
      "outputs": []
    },
    {
      "cell_type": "code",
      "metadata": {
        "colab": {
          "base_uri": "https://localhost:8080/"
        },
        "id": "L0iim0FuSN0S",
        "outputId": "f80d26cd-906f-411b-b85d-1d22a384ce68"
      },
      "source": [
        "print(etreino)"
      ],
      "execution_count": 19,
      "outputs": [
        {
          "output_type": "stream",
          "name": "stdout",
          "text": [
            "[[6.2 2.8 4.8 1.8]\n",
            " [7.9 3.8 6.4 2. ]\n",
            " [6.8 3.  5.5 2.1]\n",
            " [5.9 3.  4.2 1.5]\n",
            " [5.  3.5 1.3 0.3]\n",
            " [5.6 2.7 4.2 1.3]\n",
            " [5.5 3.5 1.3 0.2]\n",
            " [7.7 3.8 6.7 2.2]\n",
            " [6.4 2.9 4.3 1.3]\n",
            " [4.9 3.1 1.5 0.1]\n",
            " [5.1 2.5 3.  1.1]\n",
            " [5.8 2.7 5.1 1.9]\n",
            " [6.9 3.2 5.7 2.3]\n",
            " [5.7 3.8 1.7 0.3]\n",
            " [5.2 3.5 1.5 0.2]\n",
            " [5.8 4.  1.2 0.2]\n",
            " [7.7 2.6 6.9 2.3]\n",
            " [4.6 3.1 1.5 0.2]\n",
            " [6.1 2.6 5.6 1.4]\n",
            " [6.1 2.8 4.  1.3]\n",
            " [5.5 4.2 1.4 0.2]\n",
            " [5.1 3.3 1.7 0.5]\n",
            " [7.6 3.  6.6 2.1]\n",
            " [4.8 3.4 1.6 0.2]\n",
            " [6.1 2.8 4.7 1.2]\n",
            " [5.  3.4 1.6 0.4]\n",
            " [6.5 3.2 5.1 2. ]\n",
            " [6.4 3.2 5.3 2.3]\n",
            " [7.1 3.  5.9 2.1]\n",
            " [6.5 3.  5.5 1.8]\n",
            " [4.9 3.1 1.5 0.1]\n",
            " [6.3 2.9 5.6 1.8]\n",
            " [6.7 3.1 5.6 2.4]\n",
            " [5.5 2.3 4.  1.3]\n",
            " [7.3 2.9 6.3 1.8]\n",
            " [6.3 2.5 4.9 1.5]\n",
            " [6.8 3.2 5.9 2.3]\n",
            " [6.6 3.  4.4 1.4]\n",
            " [6.2 2.2 4.5 1.5]\n",
            " [5.8 2.7 5.1 1.9]\n",
            " [6.2 3.4 5.4 2.3]\n",
            " [6.6 2.9 4.6 1.3]\n",
            " [5.5 2.5 4.  1.3]\n",
            " [6.9 3.1 5.1 2.3]\n",
            " [6.7 3.1 4.7 1.5]\n",
            " [5.2 2.7 3.9 1.4]\n",
            " [4.4 2.9 1.4 0.2]\n",
            " [6.5 3.  5.2 2. ]\n",
            " [4.3 3.  1.1 0.1]\n",
            " [5.  2.3 3.3 1. ]\n",
            " [5.7 2.8 4.5 1.3]\n",
            " [7.2 3.2 6.  1.8]\n",
            " [5.5 2.6 4.4 1.2]\n",
            " [6.1 3.  4.6 1.4]\n",
            " [4.4 3.2 1.3 0.2]\n",
            " [5.7 4.4 1.5 0.4]\n",
            " [6.7 3.3 5.7 2.5]\n",
            " [5.6 2.8 4.9 2. ]\n",
            " [6.  2.7 5.1 1.6]\n",
            " [5.8 2.8 5.1 2.4]\n",
            " [5.6 2.9 3.6 1.3]\n",
            " [7.7 2.8 6.7 2. ]\n",
            " [6.5 3.  5.8 2.2]\n",
            " [5.4 3.9 1.3 0.4]\n",
            " [6.  2.9 4.5 1.5]\n",
            " [4.8 3.  1.4 0.1]\n",
            " [5.8 2.7 3.9 1.2]\n",
            " [5.4 3.9 1.7 0.4]\n",
            " [5.  3.5 1.6 0.6]\n",
            " [5.1 3.8 1.5 0.3]\n",
            " [5.4 3.7 1.5 0.2]\n",
            " [4.9 2.4 3.3 1. ]\n",
            " [7.4 2.8 6.1 1.9]\n",
            " [6.4 3.2 4.5 1.5]\n",
            " [5.  3.6 1.4 0.2]\n",
            " [6.1 2.9 4.7 1.4]\n",
            " [5.1 3.5 1.4 0.3]\n",
            " [4.7 3.2 1.3 0.2]\n",
            " [6.  2.2 5.  1.5]\n",
            " [4.9 3.  1.4 0.2]\n",
            " [5.1 3.8 1.6 0.2]\n",
            " [5.9 3.  5.1 1.8]\n",
            " [5.  2.  3.5 1. ]\n",
            " [5.4 3.4 1.7 0.2]\n",
            " [4.9 2.5 4.5 1.7]\n",
            " [5.6 2.5 3.9 1.1]\n",
            " [5.9 3.2 4.8 1.8]\n",
            " [4.9 3.1 1.5 0.1]\n",
            " [6.3 3.3 6.  2.5]\n",
            " [4.4 3.  1.3 0.2]\n",
            " [6.  3.4 4.5 1.6]\n",
            " [6.4 2.7 5.3 1.9]\n",
            " [4.7 3.2 1.6 0.2]\n",
            " [5.4 3.  4.5 1.5]\n",
            " [6.8 2.8 4.8 1.4]\n",
            " [6.3 2.7 4.9 1.8]\n",
            " [4.8 3.1 1.6 0.2]\n",
            " [4.6 3.2 1.4 0.2]\n",
            " [6.2 2.9 4.3 1.3]\n",
            " [7.2 3.6 6.1 2.5]\n",
            " [5.7 2.8 4.1 1.3]\n",
            " [5.7 2.6 3.5 1. ]\n",
            " [5.4 3.4 1.5 0.4]\n",
            " [6.7 3.1 4.4 1.4]\n",
            " [5.7 2.5 5.  2. ]\n",
            " [5.  3.2 1.2 0.2]\n",
            " [4.8 3.4 1.9 0.2]\n",
            " [4.8 3.  1.4 0.3]\n",
            " [5.6 3.  4.5 1.5]\n",
            " [5.5 2.4 3.8 1.1]\n",
            " [5.2 3.4 1.4 0.2]]\n"
          ]
        }
      ]
    },
    {
      "cell_type": "code",
      "metadata": {
        "colab": {
          "base_uri": "https://localhost:8080/"
        },
        "id": "pXQnENj-SyI0",
        "outputId": "e25b2ec4-4532-4fb3-83b7-5f9d3fe1d394"
      },
      "source": [
        "from keras.models import Sequential\n",
        "from keras.layers import Dense\n",
        "\n",
        "classificador = Sequential()\n",
        "\n",
        "classificador.add(Dense(50, activation='relu', input_dim = 4))\n",
        "classificador.add(Dense(50, activation='relu'))\n",
        "classificador.add(Dense(3, activation='softmax'))\n",
        "classificador.summary()\n",
        "\n"
      ],
      "execution_count": 23,
      "outputs": [
        {
          "output_type": "stream",
          "name": "stdout",
          "text": [
            "Model: \"sequential_3\"\n",
            "_________________________________________________________________\n",
            "Layer (type)                 Output Shape              Param #   \n",
            "=================================================================\n",
            "dense (Dense)                (None, 50)                250       \n",
            "_________________________________________________________________\n",
            "dense_1 (Dense)              (None, 50)                2550      \n",
            "_________________________________________________________________\n",
            "dense_2 (Dense)              (None, 3)                 153       \n",
            "=================================================================\n",
            "Total params: 2,953\n",
            "Trainable params: 2,953\n",
            "Non-trainable params: 0\n",
            "_________________________________________________________________\n"
          ]
        }
      ]
    },
    {
      "cell_type": "code",
      "metadata": {
        "id": "JA0UMn7cT84w"
      },
      "source": [
        "classificador.compile(optimizer= 'adam', loss = 'categorical_crossentropy', metrics = ['accuracy'])"
      ],
      "execution_count": 24,
      "outputs": []
    },
    {
      "cell_type": "code",
      "metadata": {
        "colab": {
          "base_uri": "https://localhost:8080/"
        },
        "id": "_V0kCJ_oVES_",
        "outputId": "93c74b4f-1026-4ba8-fc03-80ef40b64f96"
      },
      "source": [
        "classificador.fit(etreino, streino, batch_size=10, epochs=100, validation_split=0.2)"
      ],
      "execution_count": 30,
      "outputs": [
        {
          "output_type": "stream",
          "name": "stdout",
          "text": [
            "Epoch 1/100\n",
            "9/9 [==============================] - 0s 10ms/step - loss: 0.0443 - accuracy: 0.9886 - val_loss: 0.0153 - val_accuracy: 1.0000\n",
            "Epoch 2/100\n",
            "9/9 [==============================] - 0s 8ms/step - loss: 0.0498 - accuracy: 0.9773 - val_loss: 0.0132 - val_accuracy: 1.0000\n",
            "Epoch 3/100\n",
            "9/9 [==============================] - 0s 6ms/step - loss: 0.0437 - accuracy: 0.9886 - val_loss: 0.0164 - val_accuracy: 1.0000\n",
            "Epoch 4/100\n",
            "9/9 [==============================] - 0s 5ms/step - loss: 0.0474 - accuracy: 0.9773 - val_loss: 0.0227 - val_accuracy: 1.0000\n",
            "Epoch 5/100\n",
            "9/9 [==============================] - 0s 6ms/step - loss: 0.0446 - accuracy: 0.9773 - val_loss: 0.0177 - val_accuracy: 1.0000\n",
            "Epoch 6/100\n",
            "9/9 [==============================] - 0s 6ms/step - loss: 0.0458 - accuracy: 0.9886 - val_loss: 0.0125 - val_accuracy: 1.0000\n",
            "Epoch 7/100\n",
            "9/9 [==============================] - 0s 7ms/step - loss: 0.0480 - accuracy: 0.9773 - val_loss: 0.0140 - val_accuracy: 1.0000\n",
            "Epoch 8/100\n",
            "9/9 [==============================] - 0s 6ms/step - loss: 0.0488 - accuracy: 0.9773 - val_loss: 0.0218 - val_accuracy: 1.0000\n",
            "Epoch 9/100\n",
            "9/9 [==============================] - 0s 7ms/step - loss: 0.0481 - accuracy: 0.9773 - val_loss: 0.0151 - val_accuracy: 1.0000\n",
            "Epoch 10/100\n",
            "9/9 [==============================] - 0s 8ms/step - loss: 0.0441 - accuracy: 0.9886 - val_loss: 0.0143 - val_accuracy: 1.0000\n",
            "Epoch 11/100\n",
            "9/9 [==============================] - 0s 7ms/step - loss: 0.0430 - accuracy: 0.9886 - val_loss: 0.0177 - val_accuracy: 1.0000\n",
            "Epoch 12/100\n",
            "9/9 [==============================] - 0s 8ms/step - loss: 0.0449 - accuracy: 0.9773 - val_loss: 0.0201 - val_accuracy: 1.0000\n",
            "Epoch 13/100\n",
            "9/9 [==============================] - 0s 8ms/step - loss: 0.0467 - accuracy: 0.9773 - val_loss: 0.0126 - val_accuracy: 1.0000\n",
            "Epoch 14/100\n",
            "9/9 [==============================] - 0s 6ms/step - loss: 0.0479 - accuracy: 0.9773 - val_loss: 0.0162 - val_accuracy: 1.0000\n",
            "Epoch 15/100\n",
            "9/9 [==============================] - 0s 6ms/step - loss: 0.0430 - accuracy: 0.9886 - val_loss: 0.0161 - val_accuracy: 1.0000\n",
            "Epoch 16/100\n",
            "9/9 [==============================] - 0s 6ms/step - loss: 0.0441 - accuracy: 0.9886 - val_loss: 0.0151 - val_accuracy: 1.0000\n",
            "Epoch 17/100\n",
            "9/9 [==============================] - 0s 9ms/step - loss: 0.0432 - accuracy: 0.9886 - val_loss: 0.0173 - val_accuracy: 1.0000\n",
            "Epoch 18/100\n",
            "9/9 [==============================] - 0s 6ms/step - loss: 0.0463 - accuracy: 0.9773 - val_loss: 0.0187 - val_accuracy: 1.0000\n",
            "Epoch 19/100\n",
            "9/9 [==============================] - 0s 5ms/step - loss: 0.0428 - accuracy: 0.9886 - val_loss: 0.0145 - val_accuracy: 1.0000\n",
            "Epoch 20/100\n",
            "9/9 [==============================] - 0s 6ms/step - loss: 0.0464 - accuracy: 0.9773 - val_loss: 0.0131 - val_accuracy: 1.0000\n",
            "Epoch 21/100\n",
            "9/9 [==============================] - 0s 6ms/step - loss: 0.0449 - accuracy: 0.9773 - val_loss: 0.0195 - val_accuracy: 1.0000\n",
            "Epoch 22/100\n",
            "9/9 [==============================] - 0s 6ms/step - loss: 0.0466 - accuracy: 0.9886 - val_loss: 0.0149 - val_accuracy: 1.0000\n",
            "Epoch 23/100\n",
            "9/9 [==============================] - 0s 9ms/step - loss: 0.0489 - accuracy: 0.9773 - val_loss: 0.0199 - val_accuracy: 1.0000\n",
            "Epoch 24/100\n",
            "9/9 [==============================] - 0s 7ms/step - loss: 0.0446 - accuracy: 0.9773 - val_loss: 0.0157 - val_accuracy: 1.0000\n",
            "Epoch 25/100\n",
            "9/9 [==============================] - 0s 6ms/step - loss: 0.0492 - accuracy: 0.9773 - val_loss: 0.0116 - val_accuracy: 1.0000\n",
            "Epoch 26/100\n",
            "9/9 [==============================] - 0s 7ms/step - loss: 0.0475 - accuracy: 0.9886 - val_loss: 0.0186 - val_accuracy: 1.0000\n",
            "Epoch 27/100\n",
            "9/9 [==============================] - 0s 6ms/step - loss: 0.0470 - accuracy: 0.9773 - val_loss: 0.0140 - val_accuracy: 1.0000\n",
            "Epoch 28/100\n",
            "9/9 [==============================] - 0s 6ms/step - loss: 0.0435 - accuracy: 0.9886 - val_loss: 0.0151 - val_accuracy: 1.0000\n",
            "Epoch 29/100\n",
            "9/9 [==============================] - 0s 7ms/step - loss: 0.0475 - accuracy: 0.9773 - val_loss: 0.0176 - val_accuracy: 1.0000\n",
            "Epoch 30/100\n",
            "9/9 [==============================] - 0s 5ms/step - loss: 0.0432 - accuracy: 0.9886 - val_loss: 0.0135 - val_accuracy: 1.0000\n",
            "Epoch 31/100\n",
            "9/9 [==============================] - 0s 7ms/step - loss: 0.0437 - accuracy: 0.9886 - val_loss: 0.0160 - val_accuracy: 1.0000\n",
            "Epoch 32/100\n",
            "9/9 [==============================] - 0s 5ms/step - loss: 0.0478 - accuracy: 0.9886 - val_loss: 0.0127 - val_accuracy: 1.0000\n",
            "Epoch 33/100\n",
            "9/9 [==============================] - 0s 6ms/step - loss: 0.0415 - accuracy: 0.9773 - val_loss: 0.0183 - val_accuracy: 1.0000\n",
            "Epoch 34/100\n",
            "9/9 [==============================] - 0s 6ms/step - loss: 0.0430 - accuracy: 0.9773 - val_loss: 0.0176 - val_accuracy: 1.0000\n",
            "Epoch 35/100\n",
            "9/9 [==============================] - 0s 6ms/step - loss: 0.0461 - accuracy: 0.9773 - val_loss: 0.0182 - val_accuracy: 1.0000\n",
            "Epoch 36/100\n",
            "9/9 [==============================] - 0s 7ms/step - loss: 0.0462 - accuracy: 0.9773 - val_loss: 0.0110 - val_accuracy: 1.0000\n",
            "Epoch 37/100\n",
            "9/9 [==============================] - 0s 8ms/step - loss: 0.0451 - accuracy: 0.9773 - val_loss: 0.0128 - val_accuracy: 1.0000\n",
            "Epoch 38/100\n",
            "9/9 [==============================] - 0s 8ms/step - loss: 0.0435 - accuracy: 0.9886 - val_loss: 0.0182 - val_accuracy: 1.0000\n",
            "Epoch 39/100\n",
            "9/9 [==============================] - 0s 6ms/step - loss: 0.0442 - accuracy: 0.9773 - val_loss: 0.0170 - val_accuracy: 1.0000\n",
            "Epoch 40/100\n",
            "9/9 [==============================] - 0s 6ms/step - loss: 0.0460 - accuracy: 0.9886 - val_loss: 0.0125 - val_accuracy: 1.0000\n",
            "Epoch 41/100\n",
            "9/9 [==============================] - 0s 6ms/step - loss: 0.0429 - accuracy: 0.9886 - val_loss: 0.0149 - val_accuracy: 1.0000\n",
            "Epoch 42/100\n",
            "9/9 [==============================] - 0s 6ms/step - loss: 0.0441 - accuracy: 0.9773 - val_loss: 0.0172 - val_accuracy: 1.0000\n",
            "Epoch 43/100\n",
            "9/9 [==============================] - 0s 7ms/step - loss: 0.0436 - accuracy: 0.9886 - val_loss: 0.0145 - val_accuracy: 1.0000\n",
            "Epoch 44/100\n",
            "9/9 [==============================] - 0s 5ms/step - loss: 0.0452 - accuracy: 0.9773 - val_loss: 0.0174 - val_accuracy: 1.0000\n",
            "Epoch 45/100\n",
            "9/9 [==============================] - 0s 6ms/step - loss: 0.0441 - accuracy: 0.9886 - val_loss: 0.0135 - val_accuracy: 1.0000\n",
            "Epoch 46/100\n",
            "9/9 [==============================] - 0s 7ms/step - loss: 0.0446 - accuracy: 0.9886 - val_loss: 0.0122 - val_accuracy: 1.0000\n",
            "Epoch 47/100\n",
            "9/9 [==============================] - 0s 6ms/step - loss: 0.0417 - accuracy: 0.9886 - val_loss: 0.0181 - val_accuracy: 1.0000\n",
            "Epoch 48/100\n",
            "9/9 [==============================] - 0s 7ms/step - loss: 0.0466 - accuracy: 0.9773 - val_loss: 0.0137 - val_accuracy: 1.0000\n",
            "Epoch 49/100\n",
            "9/9 [==============================] - 0s 6ms/step - loss: 0.0485 - accuracy: 0.9773 - val_loss: 0.0214 - val_accuracy: 1.0000\n",
            "Epoch 50/100\n",
            "9/9 [==============================] - 0s 6ms/step - loss: 0.0458 - accuracy: 0.9886 - val_loss: 0.0116 - val_accuracy: 1.0000\n",
            "Epoch 51/100\n",
            "9/9 [==============================] - 0s 6ms/step - loss: 0.0477 - accuracy: 0.9773 - val_loss: 0.0176 - val_accuracy: 1.0000\n",
            "Epoch 52/100\n",
            "9/9 [==============================] - 0s 6ms/step - loss: 0.0437 - accuracy: 0.9773 - val_loss: 0.0161 - val_accuracy: 1.0000\n",
            "Epoch 53/100\n",
            "9/9 [==============================] - 0s 8ms/step - loss: 0.0418 - accuracy: 0.9886 - val_loss: 0.0137 - val_accuracy: 1.0000\n",
            "Epoch 54/100\n",
            "9/9 [==============================] - 0s 6ms/step - loss: 0.0422 - accuracy: 0.9886 - val_loss: 0.0134 - val_accuracy: 1.0000\n",
            "Epoch 55/100\n",
            "9/9 [==============================] - 0s 5ms/step - loss: 0.0427 - accuracy: 0.9886 - val_loss: 0.0143 - val_accuracy: 1.0000\n",
            "Epoch 56/100\n",
            "9/9 [==============================] - 0s 7ms/step - loss: 0.0449 - accuracy: 0.9886 - val_loss: 0.0124 - val_accuracy: 1.0000\n",
            "Epoch 57/100\n",
            "9/9 [==============================] - 0s 6ms/step - loss: 0.0447 - accuracy: 0.9773 - val_loss: 0.0189 - val_accuracy: 1.0000\n",
            "Epoch 58/100\n",
            "9/9 [==============================] - 0s 8ms/step - loss: 0.0426 - accuracy: 0.9773 - val_loss: 0.0146 - val_accuracy: 1.0000\n",
            "Epoch 59/100\n",
            "9/9 [==============================] - 0s 8ms/step - loss: 0.0455 - accuracy: 0.9886 - val_loss: 0.0114 - val_accuracy: 1.0000\n",
            "Epoch 60/100\n",
            "9/9 [==============================] - 0s 8ms/step - loss: 0.0420 - accuracy: 0.9886 - val_loss: 0.0142 - val_accuracy: 1.0000\n",
            "Epoch 61/100\n",
            "9/9 [==============================] - 0s 7ms/step - loss: 0.0536 - accuracy: 0.9773 - val_loss: 0.0188 - val_accuracy: 1.0000\n",
            "Epoch 62/100\n",
            "9/9 [==============================] - 0s 6ms/step - loss: 0.0455 - accuracy: 0.9886 - val_loss: 0.0111 - val_accuracy: 1.0000\n",
            "Epoch 63/100\n",
            "9/9 [==============================] - 0s 6ms/step - loss: 0.0451 - accuracy: 0.9886 - val_loss: 0.0120 - val_accuracy: 1.0000\n",
            "Epoch 64/100\n",
            "9/9 [==============================] - 0s 6ms/step - loss: 0.0426 - accuracy: 0.9886 - val_loss: 0.0196 - val_accuracy: 1.0000\n",
            "Epoch 65/100\n",
            "9/9 [==============================] - 0s 5ms/step - loss: 0.0464 - accuracy: 0.9773 - val_loss: 0.0147 - val_accuracy: 1.0000\n",
            "Epoch 66/100\n",
            "9/9 [==============================] - 0s 8ms/step - loss: 0.0456 - accuracy: 0.9886 - val_loss: 0.0132 - val_accuracy: 1.0000\n",
            "Epoch 67/100\n",
            "9/9 [==============================] - 0s 5ms/step - loss: 0.0421 - accuracy: 0.9886 - val_loss: 0.0173 - val_accuracy: 1.0000\n",
            "Epoch 68/100\n",
            "9/9 [==============================] - 0s 6ms/step - loss: 0.0427 - accuracy: 0.9886 - val_loss: 0.0144 - val_accuracy: 1.0000\n",
            "Epoch 69/100\n",
            "9/9 [==============================] - 0s 6ms/step - loss: 0.0433 - accuracy: 0.9886 - val_loss: 0.0121 - val_accuracy: 1.0000\n",
            "Epoch 70/100\n",
            "9/9 [==============================] - 0s 7ms/step - loss: 0.0407 - accuracy: 0.9886 - val_loss: 0.0186 - val_accuracy: 1.0000\n",
            "Epoch 71/100\n",
            "9/9 [==============================] - 0s 7ms/step - loss: 0.0455 - accuracy: 0.9773 - val_loss: 0.0140 - val_accuracy: 1.0000\n",
            "Epoch 72/100\n",
            "9/9 [==============================] - 0s 8ms/step - loss: 0.0452 - accuracy: 0.9886 - val_loss: 0.0125 - val_accuracy: 1.0000\n",
            "Epoch 73/100\n",
            "9/9 [==============================] - 0s 6ms/step - loss: 0.0410 - accuracy: 0.9886 - val_loss: 0.0161 - val_accuracy: 1.0000\n",
            "Epoch 74/100\n",
            "9/9 [==============================] - 0s 5ms/step - loss: 0.0424 - accuracy: 0.9886 - val_loss: 0.0146 - val_accuracy: 1.0000\n",
            "Epoch 75/100\n",
            "9/9 [==============================] - 0s 7ms/step - loss: 0.0415 - accuracy: 0.9886 - val_loss: 0.0170 - val_accuracy: 1.0000\n",
            "Epoch 76/100\n",
            "9/9 [==============================] - 0s 8ms/step - loss: 0.0472 - accuracy: 0.9886 - val_loss: 0.0118 - val_accuracy: 1.0000\n",
            "Epoch 77/100\n",
            "9/9 [==============================] - 0s 8ms/step - loss: 0.0398 - accuracy: 0.9886 - val_loss: 0.0159 - val_accuracy: 1.0000\n",
            "Epoch 78/100\n",
            "9/9 [==============================] - 0s 5ms/step - loss: 0.0418 - accuracy: 0.9773 - val_loss: 0.0174 - val_accuracy: 1.0000\n",
            "Epoch 79/100\n",
            "9/9 [==============================] - 0s 8ms/step - loss: 0.0422 - accuracy: 0.9886 - val_loss: 0.0134 - val_accuracy: 1.0000\n",
            "Epoch 80/100\n",
            "9/9 [==============================] - 0s 8ms/step - loss: 0.0416 - accuracy: 0.9886 - val_loss: 0.0129 - val_accuracy: 1.0000\n",
            "Epoch 81/100\n",
            "9/9 [==============================] - 0s 9ms/step - loss: 0.0470 - accuracy: 0.9773 - val_loss: 0.0177 - val_accuracy: 1.0000\n",
            "Epoch 82/100\n",
            "9/9 [==============================] - 0s 6ms/step - loss: 0.0546 - accuracy: 0.9773 - val_loss: 0.0089 - val_accuracy: 1.0000\n",
            "Epoch 83/100\n",
            "9/9 [==============================] - 0s 6ms/step - loss: 0.0557 - accuracy: 0.9886 - val_loss: 0.0242 - val_accuracy: 1.0000\n",
            "Epoch 84/100\n",
            "9/9 [==============================] - 0s 8ms/step - loss: 0.0434 - accuracy: 0.9773 - val_loss: 0.0126 - val_accuracy: 1.0000\n",
            "Epoch 85/100\n",
            "9/9 [==============================] - 0s 7ms/step - loss: 0.0479 - accuracy: 0.9886 - val_loss: 0.0092 - val_accuracy: 1.0000\n",
            "Epoch 86/100\n",
            "9/9 [==============================] - 0s 6ms/step - loss: 0.0411 - accuracy: 0.9886 - val_loss: 0.0150 - val_accuracy: 1.0000\n",
            "Epoch 87/100\n",
            "9/9 [==============================] - 0s 9ms/step - loss: 0.0620 - accuracy: 0.9773 - val_loss: 0.0217 - val_accuracy: 1.0000\n",
            "Epoch 88/100\n",
            "9/9 [==============================] - 0s 8ms/step - loss: 0.0404 - accuracy: 0.9886 - val_loss: 0.0100 - val_accuracy: 1.0000\n",
            "Epoch 89/100\n",
            "9/9 [==============================] - 0s 8ms/step - loss: 0.0440 - accuracy: 0.9886 - val_loss: 0.0123 - val_accuracy: 1.0000\n",
            "Epoch 90/100\n",
            "9/9 [==============================] - 0s 7ms/step - loss: 0.0421 - accuracy: 0.9886 - val_loss: 0.0151 - val_accuracy: 1.0000\n",
            "Epoch 91/100\n",
            "9/9 [==============================] - 0s 7ms/step - loss: 0.0410 - accuracy: 0.9886 - val_loss: 0.0131 - val_accuracy: 1.0000\n",
            "Epoch 92/100\n",
            "9/9 [==============================] - 0s 7ms/step - loss: 0.0482 - accuracy: 0.9773 - val_loss: 0.0111 - val_accuracy: 1.0000\n",
            "Epoch 93/100\n",
            "9/9 [==============================] - 0s 6ms/step - loss: 0.0421 - accuracy: 0.9886 - val_loss: 0.0189 - val_accuracy: 1.0000\n",
            "Epoch 94/100\n",
            "9/9 [==============================] - 0s 6ms/step - loss: 0.0469 - accuracy: 0.9773 - val_loss: 0.0162 - val_accuracy: 1.0000\n",
            "Epoch 95/100\n",
            "9/9 [==============================] - 0s 5ms/step - loss: 0.0420 - accuracy: 0.9886 - val_loss: 0.0096 - val_accuracy: 1.0000\n",
            "Epoch 96/100\n",
            "9/9 [==============================] - 0s 8ms/step - loss: 0.0442 - accuracy: 0.9886 - val_loss: 0.0112 - val_accuracy: 1.0000\n",
            "Epoch 97/100\n",
            "9/9 [==============================] - 0s 6ms/step - loss: 0.0400 - accuracy: 0.9886 - val_loss: 0.0185 - val_accuracy: 1.0000\n",
            "Epoch 98/100\n",
            "9/9 [==============================] - 0s 6ms/step - loss: 0.0426 - accuracy: 0.9773 - val_loss: 0.0152 - val_accuracy: 1.0000\n",
            "Epoch 99/100\n",
            "9/9 [==============================] - 0s 8ms/step - loss: 0.0415 - accuracy: 0.9886 - val_loss: 0.0122 - val_accuracy: 1.0000\n",
            "Epoch 100/100\n",
            "9/9 [==============================] - 0s 6ms/step - loss: 0.0402 - accuracy: 0.9886 - val_loss: 0.0141 - val_accuracy: 1.0000\n"
          ]
        },
        {
          "output_type": "execute_result",
          "data": {
            "text/plain": [
              "<keras.callbacks.History at 0x7f79e52d2350>"
            ]
          },
          "metadata": {},
          "execution_count": 30
        }
      ]
    },
    {
      "cell_type": "code",
      "metadata": {
        "colab": {
          "base_uri": "https://localhost:8080/"
        },
        "id": "5aavQ57rV4RJ",
        "outputId": "d2a58c7b-0fdc-47e9-9b2f-ab18ce672358"
      },
      "source": [
        "score = classificador.evaluate(eteste, steste, verbose=1)\n",
        "print('Test score', score[0])\n",
        "print('Test accuracy', score[1])\n"
      ],
      "execution_count": 31,
      "outputs": [
        {
          "output_type": "stream",
          "name": "stdout",
          "text": [
            "2/2 [==============================] - 0s 6ms/step - loss: 0.1439 - accuracy: 0.9211\n",
            "Test score 0.14394357800483704\n",
            "Test accuracy 0.9210526347160339\n"
          ]
        }
      ]
    },
    {
      "cell_type": "code",
      "metadata": {
        "colab": {
          "base_uri": "https://localhost:8080/"
        },
        "id": "pVKS--ptXL8t",
        "outputId": "36441292-56ab-4402-d4af-33e8be37e372"
      },
      "source": [
        "import numpy as np\n",
        "from sklearn.metrics import confusion_matrix\n",
        "\n",
        "previsoes = classificador.predict(eteste)\n",
        "\n",
        "steste2 = [np.argmax(t) for t in steste]\n",
        "previsoes2 = [np.argmax(t) for t in previsoes]\n",
        "matrizconfusao = confusion_matrix(previsoes2, steste2)\n",
        "\n",
        "print(matrizconfusao)"
      ],
      "execution_count": 37,
      "outputs": [
        {
          "output_type": "stream",
          "name": "stdout",
          "text": [
            "[[11  0  0]\n",
            " [ 0 13  3]\n",
            " [ 0  0 11]]\n"
          ]
        }
      ]
    },
    {
      "cell_type": "code",
      "metadata": {
        "colab": {
          "base_uri": "https://localhost:8080/"
        },
        "id": "hy2zIW3LYHG8",
        "outputId": "46be6b7e-be30-494d-9b9f-6a61fdd2cba2"
      },
      "source": [
        "print(steste2)"
      ],
      "execution_count": 38,
      "outputs": [
        {
          "output_type": "stream",
          "name": "stdout",
          "text": [
            "[1, 2, 2, 0, 2, 1, 1, 0, 1, 1, 2, 2, 2, 2, 2, 0, 1, 1, 0, 2, 0, 1, 2, 1, 1, 0, 2, 0, 2, 1, 1, 0, 0, 1, 0, 2, 0, 2]\n"
          ]
        }
      ]
    },
    {
      "cell_type": "code",
      "metadata": {
        "id": "V0rGD-cSZUy8"
      },
      "source": [
        ""
      ],
      "execution_count": null,
      "outputs": []
    }
  ]
}